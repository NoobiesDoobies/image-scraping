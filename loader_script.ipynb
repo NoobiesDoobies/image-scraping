{
 "cells": [
  {
   "cell_type": "code",
   "execution_count": 10,
   "metadata": {},
   "outputs": [],
   "source": [
    "\n",
    "import instaloader.instaloader as instaloader"
   ]
  },
  {
   "cell_type": "code",
   "execution_count": 20,
   "metadata": {},
   "outputs": [
    {
     "name": "stdout",
     "output_type": "stream",
     "text": [
      "Logged in as: carlios.e\n"
     ]
    }
   ],
   "source": [
    "\n",
    "\n",
    "loader = instaloader.Instaloader(\n",
    "    download_videos=False,\n",
    "    download_comments=False,\n",
    "    download_geotags=False,\n",
    "    download_video_thumbnails=False,\n",
    "    save_metadata=False,\n",
    "\n",
    ")\n",
    "\n",
    "loader.login('carlios.e', 'n$bHZsHZjdQ!1_p')\n",
    "\n",
    "print(f\"Logged in as: {loader.test_login()}\")\n",
    "\n"
   ]
  },
  {
   "cell_type": "code",
   "execution_count": 21,
   "metadata": {},
   "outputs": [
    {
     "name": "stderr",
     "output_type": "stream",
     "text": [
      "Get hashtag #food: 400 Bad Request - \"fail\" status, message \"useragent mismatch\" when accessing https://www.instagram.com/api/v1/tags/web_info/?tag_name=food&__a=1&__d=dis\n"
     ]
    }
   ],
   "source": [
    "loader.download_hashtag('food', max_count=5, profile_pic=False)\n"
   ]
  },
  {
   "cell_type": "code",
   "execution_count": null,
   "metadata": {},
   "outputs": [],
   "source": []
  }
 ],
 "metadata": {
  "kernelspec": {
   "display_name": "Python 3",
   "language": "python",
   "name": "python3"
  },
  "language_info": {
   "codemirror_mode": {
    "name": "ipython",
    "version": 3
   },
   "file_extension": ".py",
   "mimetype": "text/x-python",
   "name": "python",
   "nbconvert_exporter": "python",
   "pygments_lexer": "ipython3",
   "version": "3.10.12"
  }
 },
 "nbformat": 4,
 "nbformat_minor": 2
}
